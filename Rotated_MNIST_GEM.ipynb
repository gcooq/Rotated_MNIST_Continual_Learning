{
  "nbformat": 4,
  "nbformat_minor": 0,
  "metadata": {
    "accelerator": "GPU",
    "colab": {
      "name": "Project2.ipynb",
      "provenance": [],
      "collapsed_sections": []
    },
    "kernelspec": {
      "display_name": "Python 3",
      "language": "python",
      "name": "python3"
    },
    "language_info": {
      "codemirror_mode": {
        "name": "ipython",
        "version": 3
      },
      "file_extension": ".py",
      "mimetype": "text/x-python",
      "name": "python",
      "nbconvert_exporter": "python",
      "pygments_lexer": "ipython3",
      "version": "3.7.4"
    }
  },
  "cells": [
    {
      "cell_type": "markdown",
      "metadata": {
        "id": "BeL-Xvne6d6m",
        "colab_type": "text"
      },
      "source": [
        "***Please use Colab to open this file***\n",
        "\n",
        "\n",
        "For this project We mainly focus on EWC and Gradient Episodic Memory (GEM) learning strategy. For EWC portion, please check out this link - **https://www.kaggle.com/ruinanzhang44/project-2-rotated-mnist?scriptVersionId=31496756**"
      ]
    },
    {
      "cell_type": "markdown",
      "metadata": {
        "id": "SKmAMiRymuDY",
        "colab_type": "text"
      },
      "source": [
        "# Goal\n",
        "\n",
        "Catastrophic Forgetting make the model no longer suitable for MNIST problem. In the following section we will discuss how to reduce catastrofic forgetting with Gradient Episodic Memory (GEM). \n",
        "\n",
        "Besides accuracy, there are two additional metrics used to assess the ability of the algorithm to transfer knowledge - Backward transfer (BWT) and Forward transfer (FWT)\n",
        "\n",
        "*   BWT: the influence that learning a task t has on the performance on a previous task k ≺ t\n",
        "*   FWT: the influence that learning a task t has on the performance on a future task k ≻ t\n",
        "\n",
        "# Dataset\n",
        "\n",
        "**Training Dataset**: 60000 * 28 * 28\n",
        "\n",
        "**Test Dataset**: 10000 * 28 * 28\n",
        "\n",
        "**Rotation**: Randomized rotation between 0~180 degree\n",
        "\n",
        "**Tasks number**: 20\n",
        "\n",
        "\n",
        "# Gradient Episodic Memory\n",
        "\n",
        "When performing current task, GEM allows to access Episodic Memory (Mt) where the subsets data of previous tasks being stored. We use integer task descriptors and focus on minimizing negative backward transfer (catastrophic forgetting) by the efficient use of episodic memory Mt."
      ]
    },
    {
      "cell_type": "markdown",
      "metadata": {
        "id": "Wcj4oVkVoBiq",
        "colab_type": "text"
      },
      "source": [
        "class Net(nn.Module) definition:\n",
        "\n",
        "**initialization**:\n",
        "Use MLP as the base neural network. \n",
        "Allocate following parameters: \n",
        "\n",
        "1.   episodic memory: memory_data, memory labs\n",
        "2.   temporary synaptic memory: gradient dimensions and gradients\n",
        "3.   counters: observed tasks sequence, old_task, memory counter, nc_per_task\n",
        "4.   other parameters: layers, hidden layers, margin (memory strength), outputs, cross entropy loss, optimizer\n",
        "\n",
        "**forward**:\n",
        "\n",
        "return self.net(x)\n",
        "\n",
        "**observe**:\n",
        "\n",
        "params: \n",
        "*   x -> input\n",
        "*   t -> index task descriptor\n",
        "*   y -> output\n",
        "\n",
        "```python\n",
        "    def observe(self, x, t, y):\n",
        "        # 1. update memory\n",
        "        # Mt ←{} for all t=1,...,T.\n",
        "        # assign old task to t\n",
        "        if t != self.old_task:\n",
        "            self.observed_tasks.append(t)\n",
        "            self.old_task = t\n",
        "\n",
        "        # 2. Update ring buffer storing examples from current task\n",
        "        # R ← 0 ∈ R^T*T\n",
        "        bsz = y.data.size(0)\n",
        "        endcnt = min(self.mem_cnt + bsz, self.n_memories)\n",
        "        effbsz = endcnt - self.mem_cnt\n",
        "        self.memory_data[t, self.mem_cnt: endcnt].copy_(\n",
        "            x.data[: effbsz])\n",
        "        if bsz == 1:\n",
        "            self.memory_labs[t, self.mem_cnt] = y.data[0]\n",
        "        else:\n",
        "            self.memory_labs[t, self.mem_cnt: endcnt].copy_(\n",
        "                y.data[: effbsz])\n",
        "        self.mem_cnt += effbsz\n",
        "        if self.mem_cnt == self.n_memories:\n",
        "            self.mem_cnt = 0\n",
        "\n",
        "        # 3. compute gradient on previous tasks\n",
        "        # gk ← ∇θ l(fθ, Mk)\n",
        "        if len(self.observed_tasks) > 1:\n",
        "            for tt in range(len(self.observed_tasks) - 1):\n",
        "                self.zero_grad()\n",
        "                # fwd/bwd on the examples in the memory\n",
        "                past_task = self.observed_tasks[tt]\n",
        "\n",
        "                offset1, offset2 = 0, self.nc_per_task\n",
        "                # g←∇θl(fθ(x,t),y)\n",
        "                ptloss = self.ce(self.forward(self.memory_data[past_task],\n",
        "                        past_task)[:, offset1: offset2],\n",
        "                        self.memory_labs[past_task] - offset1)\n",
        "                # gk ← ∇θ l(fθ, Mk) for all k < t\n",
        "                ptloss.backward()\n",
        "                store_grad(self.parameters, self.grads, self.grad_dims,\n",
        "                           past_task)\n",
        "\n",
        "        # 4. compute the grad on the current minibatch\n",
        "        # g←∇θl(fθ(x,t),y)\n",
        "        self.zero_grad()\n",
        "\n",
        "        offset1, offset2 = 0, self.nc_per_task\n",
        "        loss = self.ce(self.forward(x, t)[:, offset1: offset2], y - offset1)\n",
        "        loss.backward()\n",
        "\n",
        "        # 5. check if gradient violates constraints\n",
        "        if len(self.observed_tasks) > 1:\n",
        "            # 5.1 copy gradient\n",
        "            store_grad(self.parameters, self.grads, self.grad_dims, t)\n",
        "            indx = torch.LongTensor(self.observed_tasks[:-1])\n",
        "            dotp = torch.mm(self.grads[:, t].unsqueeze(0),\n",
        "                            self.grads.index_select(1, indx))\n",
        "            if (dotp < 0).sum() != 0:\n",
        "                # 5.2 g ← PROJECT(g, g1, . . . , gt−1)\n",
        "                project2cone2(self.grads[:, t].unsqueeze(1),\n",
        "                              self.grads.index_select(1, indx), self.margin)\n",
        "                # 5.3 copy gradients back θ ← θ − αg.\n",
        "                overwrite_grad(self.parameters, self.grads[:, t],\n",
        "                               self.grad_dims)\n",
        "        self.opt.step()\n",
        "\n",
        "```\n"
      ]
    },
    {
      "cell_type": "markdown",
      "metadata": {
        "id": "_LRSpGucARmu",
        "colab_type": "text"
      },
      "source": [
        "Other Helper method for Observe:\n",
        "\n",
        "project2cone2: Project the proposed gradient g to the closest gradient g ̃ (in squared l2 norm) satisfying all the constraints using Quadratic Program (QP) with inequality constraints, minimizez 1/2* z⊤Cz + p⊤z\n",
        "\n",
        "```python\n",
        "def project2cone2(gradient, memories, margin=0.5, eps=1e-3):\n",
        "  @param gradient\n",
        "  @param memories\n",
        "  @param margin\n",
        "  @param eps\n",
        "    memories_np = memories.cpu().t().double().numpy()\n",
        "    gradient_np = gradient.cpu().contiguous().view(-1).double().numpy()\n",
        "    t = memories_np.shape[0]\n",
        "    P = np.dot(memories_np, memories_np.transpose())\n",
        "    P = 0.5 * (P + P.transpose()) + np.eye(t) * eps\n",
        "    q = np.dot(memories_np, gradient_np) * -1\n",
        "    G = np.eye(t)\n",
        "    h = np.zeros(t) + margin\n",
        "    v = quadprog.solve_qp(P, q, G, h)[0]\n",
        "    x = np.dot(v, memories_np) + gradient_np\n",
        "    gradient.copy_(torch.Tensor(x).view(-1, 1))\n",
        "```\n",
        "store_grad: store parameter gradients of previous tasks (grad_dims)\n",
        "```python\n",
        "def store_grad(pp, grads, grad_dims, tid):\n",
        "  @param pp previous parameters\n",
        "  @param grads gradients\n",
        "  @param grad_dims\n",
        "  @param tid task ID\n",
        "    # store the gradients\n",
        "    grads[:, tid].fill_(0.0)\n",
        "    cnt = 0\n",
        "    for param in pp():\n",
        "        if param.grad is not None:\n",
        "            beg = 0 if cnt == 0 else sum(grad_dims[:cnt])\n",
        "            en = sum(grad_dims[:cnt + 1])\n",
        "            grads[beg: en, tid].copy_(param.grad.data.view(-1))\n",
        "        cnt += 1\n",
        "```\n",
        "overwrite_grad: Write new gradient into grad_dims\n",
        "\n",
        "```python\n",
        "def overwrite_grad(pp, newgrad, grad_dims):\n",
        "  @param pp previous parameters\n",
        "  @param newgrad new gradient\n",
        "  @param grad_dims\n",
        "    cnt = 0\n",
        "    for param in pp():\n",
        "        if param.grad is not None:\n",
        "            beg = 0 if cnt == 0 else sum(grad_dims[:cnt])\n",
        "            en = sum(grad_dims[:cnt + 1])\n",
        "            this_grad = newgrad[beg: en].contiguous().view(\n",
        "                param.grad.data.size())\n",
        "            param.grad.data.copy_(this_grad)\n",
        "        cnt += 1\n",
        "```"
      ]
    },
    {
      "cell_type": "markdown",
      "metadata": {
        "id": "51bgbnC9nLu3",
        "colab_type": "text"
      },
      "source": [
        "\n",
        "**Evaluate**\n",
        "```python\n",
        "def eval_tasks(model, tasks, args):\n",
        "    # 1. r←0∈RT\n",
        "    # 2. for (x, y) in Continuum(k) do\n",
        "    for i, task in enumerate(tasks):\n",
        "        # 3. rk ← 0\n",
        "        # 4. for (x, y) in Continuum(k) do\n",
        "        for b_from in range(0, x.size(0), eval_bs):\n",
        "            \n",
        "            #b_to = min(b_from + eval_bs, x.size(0) - 1)\n",
        "            if b_from == b_to:\n",
        "                xb = x[b_from].view(1, -1)\n",
        "                yb = torch.LongTensor([y[b_to]]).view(1, -1)\n",
        "            else:\n",
        "                xb = x[b_from:b_to]\n",
        "                yb = y[b_from:b_to]\n",
        "            # 5. rk ← rk+accuracy(fθ(x,k),y), )\n",
        "            rt += (pb == yb).float().sum()\n",
        "\n",
        "        # 5. rk ← rk / len(Continuum(k))\n",
        "        result.append(rt / x.size(0))\n",
        "\n",
        "    return result\n",
        "```\n",
        "\n"
      ]
    },
    {
      "cell_type": "markdown",
      "metadata": {
        "id": "jzMdL6rdn0kz",
        "colab_type": "text"
      },
      "source": [
        "# Result:\n",
        "\n",
        "Highest Final accuracy: 0.9021\n",
        "\n",
        "Backward Transfer: 0.0499\n",
        "\n",
        "Forward Transfer:  0.6483\n"
      ]
    },
    {
      "cell_type": "code",
      "metadata": {
        "id": "lg79iLtxl0f-",
        "colab_type": "code",
        "outputId": "90aceebe-9c5d-4efe-b873-b9c25b0d96ae",
        "colab": {
          "base_uri": "https://localhost:8080/",
          "height": 307
        }
      },
      "source": [
        "from IPython.display import Image\n",
        "Image(filename='results/evoplot_0.9.png') "
      ],
      "execution_count": 0,
      "outputs": [
        {
          "output_type": "execute_result",
          "data": {
            "image/png": "[encoded data removed]",
            "text/plain": [
              "<IPython.core.display.Image object>"
            ]
          },
          "metadata": {
            "tags": []
          },
          "execution_count": 15
        }
      ]
    },
    {
      "cell_type": "code",
      "metadata": {
        "id": "kAalrgL54H56",
        "colab_type": "code",
        "outputId": "92fdc008-6907-4815-e13f-b506d23da884",
        "colab": {
          "base_uri": "https://localhost:8080/",
          "height": 307
        }
      },
      "source": [
        "Image(filename='results/barplot_0.9.png') "
      ],
      "execution_count": 0,
      "outputs": [
        {
          "output_type": "execute_result",
          "data": {
            "image/png": "[encoded data removed]",
            "text/plain": [
              "<IPython.core.display.Image object>"
            ]
          },
          "metadata": {
            "tags": []
          },
          "execution_count": 6
        }
      ]
    },
    {
      "cell_type": "code",
      "metadata": {
        "id": "-Wo0A9skmoIJ",
        "colab_type": "code",
        "outputId": "9fb2d735-399b-408f-fc87-37fd533279ed",
        "colab": {
          "base_uri": "https://localhost:8080/",
          "height": 496
        }
      },
      "source": [
        "text_file = open(\"results/gem_mnist_rotations.pt_01_34.txt\")\n",
        "file_content = text_file.read()\n",
        "print(file_content)\n",
        "text_file.close()"
      ],
      "execution_count": 0,
      "outputs": [
        {
          "output_type": "stream",
          "text": [
            "0.1244 0.1211 0.1175 0.1008 0.0813 0.0761 0.0738 0.0820 0.0818 0.0849 0.0846 0.0751 0.0985 0.1103 0.1426 0.1242 0.1237 0.1192 0.1076 0.1050\n",
            "|\n",
            "0.7663 0.7349 0.6552 0.5127 0.4063 0.2741 0.2665 0.1776 0.1371 0.1315 0.1323 0.1363 0.1364 0.1527 0.1591 0.1502 0.1609 0.1652 0.1762 0.1923\n",
            "0.8429 0.8582 0.8023 0.6628 0.5231 0.3567 0.3524 0.2548 0.1961 0.1663 0.1659 0.1376 0.1289 0.1285 0.1351 0.1312 0.1378 0.1410 0.1443 0.1508\n",
            "0.8112 0.8645 0.8572 0.7864 0.6773 0.4880 0.4805 0.3264 0.2076 0.1621 0.1636 0.1383 0.1297 0.1302 0.1335 0.1330 0.1379 0.1453 0.1421 0.1539\n",
            "0.8047 0.8731 0.8930 0.8770 0.8225 0.6669 0.6594 0.4708 0.3127 0.2194 0.2198 0.1631 0.1395 0.1374 0.1415 0.1406 0.1596 0.1678 0.1783 0.1919\n",
            "0.7728 0.8469 0.8708 0.8893 0.8779 0.7950 0.7882 0.6237 0.4347 0.2965 0.2950 0.2181 0.1959 0.1873 0.1805 0.1673 0.1706 0.1672 0.1564 0.1572\n",
            "0.8217 0.8792 0.8964 0.9105 0.9054 0.8806 0.8773 0.7832 0.5942 0.4033 0.4002 0.2286 0.1745 0.1690 0.1583 0.1472 0.1582 0.1676 0.1718 0.1829\n",
            "0.8520 0.8966 0.9099 0.9164 0.9135 0.8904 0.8884 0.7951 0.5944 0.4031 0.4022 0.2164 0.1589 0.1498 0.1556 0.1529 0.1670 0.1660 0.1728 0.1769\n",
            "0.8187 0.8710 0.8886 0.8943 0.8983 0.9084 0.9078 0.8903 0.7990 0.6209 0.6181 0.3521 0.2442 0.2018 0.1548 0.1468 0.1449 0.1472 0.1541 0.1715\n",
            "0.8194 0.8641 0.8792 0.8921 0.8897 0.8963 0.8951 0.8854 0.8597 0.7572 0.7560 0.5291 0.3888 0.3038 0.2005 0.1677 0.1678 0.1624 0.1657 0.1652\n",
            "0.7070 0.7526 0.7617 0.7689 0.7702 0.7850 0.7899 0.7963 0.7934 0.7769 0.7780 0.6361 0.4921 0.3955 0.2277 0.1821 0.1536 0.1316 0.1240 0.1307\n",
            "0.8255 0.8767 0.8857 0.8897 0.8905 0.8882 0.8862 0.8753 0.8681 0.8529 0.8522 0.7263 0.5957 0.4937 0.3130 0.2607 0.2247 0.1910 0.1965 0.1934\n",
            "0.8326 0.8874 0.8980 0.9037 0.9002 0.8975 0.8975 0.8872 0.8974 0.8986 0.8985 0.8766 0.8123 0.7432 0.5254 0.4462 0.3725 0.2978 0.2602 0.2317\n",
            "0.8514 0.8975 0.9059 0.9157 0.9137 0.9235 0.9215 0.9150 0.9192 0.9247 0.9248 0.9188 0.8958 0.8608 0.6946 0.6137 0.5077 0.3750 0.2777 0.2288\n",
            "0.8604 0.9019 0.9124 0.9181 0.9213 0.9251 0.9241 0.9178 0.9139 0.9169 0.9165 0.9121 0.8971 0.8773 0.7286 0.6575 0.5548 0.4222 0.3071 0.2516\n",
            "0.8494 0.8945 0.9082 0.9161 0.9161 0.9220 0.9229 0.9136 0.9101 0.9161 0.9156 0.9198 0.9203 0.9154 0.8716 0.8309 0.7572 0.6349 0.4683 0.3624\n",
            "0.8414 0.8883 0.9036 0.9102 0.9150 0.9220 0.9210 0.9188 0.9111 0.9144 0.9135 0.9163 0.9176 0.9169 0.8841 0.8645 0.8093 0.7077 0.5254 0.4004\n",
            "0.6219 0.6755 0.6919 0.6737 0.6755 0.6850 0.6844 0.6941 0.7181 0.7596 0.7578 0.7874 0.8118 0.8186 0.8171 0.8037 0.7729 0.7112 0.5690 0.4431\n",
            "0.7276 0.7999 0.8128 0.8238 0.8301 0.8393 0.8393 0.8318 0.8212 0.8153 0.8153 0.8216 0.8182 0.8155 0.8128 0.8071 0.7978 0.7620 0.6403 0.5402\n",
            "0.8355 0.8937 0.9072 0.9140 0.9089 0.9158 0.9166 0.9099 0.9081 0.9112 0.9109 0.9144 0.9191 0.9174 0.9177 0.9176 0.9154 0.9085 0.8743 0.8086\n",
            "0.8302 0.8924 0.9040 0.9102 0.9036 0.9115 0.9107 0.9081 0.9047 0.9070 0.9076 0.9085 0.9151 0.9129 0.9132 0.9136 0.9141 0.9133 0.8970 0.8634\n",
            "\n",
            "Final Accuracy: 0.9021\n",
            "Backward: 0.0499\n",
            "Forward:  0.6483\n",
            "\n"
          ],
          "name": "stdout"
        }
      ]
    },
    {
      "cell_type": "markdown",
      "metadata": {
        "id": "H5v8t_p9pGSS",
        "colab_type": "text"
      },
      "source": [
        "Parameters:\n",
        "\n",
        "*   number of hidden neurons at each layer (n_hiddens): 100\n",
        "*   number of hidden layers (n_layers): 6\n",
        "*   n_memories (number of memories per task): 512\n",
        "*   memory dependency: 1.0\n",
        "*   number of epochs per task (n_epochs): 1\n",
        "*   batch_size: 10\n",
        "*   learning rate (lr): 0.1\n"
      ]
    },
    {
      "cell_type": "markdown",
      "metadata": {
        "id": "m2ijQcpql_IM",
        "colab_type": "text"
      },
      "source": [
        "# Run the project"
      ]
    },
    {
      "cell_type": "markdown",
      "metadata": {
        "id": "46ZD4DZpYFdQ",
        "colab_type": "text"
      },
      "source": [
        "Download [GradientEpisodicMemory.zip](https://drive.google.com/open?id=1QSi3ua8e41kUDu364s4e_hs5lBJUNN31) and unzip it and upload to your google drive"
      ]
    },
    {
      "cell_type": "code",
      "metadata": {
        "colab_type": "code",
        "id": "T8fM1s2M8pnc",
        "outputId": "954dcbeb-4fed-4d06-f7f7-6b07a6d42fc4",
        "colab": {
          "base_uri": "https://localhost:8080/",
          "height": 71
        }
      },
      "source": [
        "from google.colab import drive\n",
        "drive.mount('/content/drive/')"
      ],
      "execution_count": 0,
      "outputs": [
        {
          "output_type": "stream",
          "text": [
            "Drive already mounted at /content/drive/; to attempt to forcibly remount, call drive.mount(\"/content/drive/\", force_remount=True).\n",
            "ERROR! Session/line number was not unique in database. History logging moved to new session 64\n"
          ],
          "name": "stdout"
        }
      ]
    },
    {
      "cell_type": "markdown",
      "metadata": {
        "id": "67tOkm1YYdi7",
        "colab_type": "text"
      },
      "source": [
        "go to the folder where you put your unzipped GradientEpisodicMemory\n",
        "\n",
        "cd **YOURPATH/**GradientEpisodicMemory"
      ]
    },
    {
      "cell_type": "code",
      "metadata": {
        "id": "IS9cYYua_hW4",
        "colab_type": "code",
        "outputId": "136297c1-35c2-4fa0-a346-06852b4dfe3a",
        "colab": {
          "base_uri": "https://localhost:8080/",
          "height": 34
        }
      },
      "source": [
        "cd content/drive/My Drive/Spring2020/AI/hw2/MNIST/GradientEpisodicMemory"
      ],
      "execution_count": 0,
      "outputs": [
        {
          "output_type": "stream",
          "text": [
            "/content/drive/My Drive/Spring2020/AI/hw2/MNIST/GradientEpisodicMemory\n"
          ],
          "name": "stdout"
        }
      ]
    },
    {
      "cell_type": "code",
      "metadata": {
        "colab_type": "code",
        "id": "Yc8ugE5FI_mV",
        "outputId": "3ee605b3-f2c5-446e-fc27-dc190784d9ce",
        "colab": {
          "base_uri": "https://localhost:8080/",
          "height": 71
        }
      },
      "source": [
        "!pip install quadprog\n",
        "!chmod +x run_experiments.sh"
      ],
      "execution_count": 0,
      "outputs": [
        {
          "output_type": "stream",
          "text": [
            "Requirement already satisfied: quadprog in /usr/local/lib/python3.6/dist-packages (0.1.7)\n",
            "Requirement already satisfied: Cython in /usr/local/lib/python3.6/dist-packages (from quadprog) (0.29.16)\n"
          ],
          "name": "stdout"
        }
      ]
    },
    {
      "cell_type": "code",
      "metadata": {
        "colab_type": "code",
        "id": "9QUQrzfQD1FN",
        "outputId": "c85d3afd-07d4-4d9d-eabe-9d8915ea74da",
        "colab": {
          "base_uri": "https://localhost:8080/",
          "height": 85
        }
      },
      "source": [
        "!./run_experiments.sh"
      ],
      "execution_count": 0,
      "outputs": [
        {
          "output_type": "stream",
          "text": [
            "results/gem_mnist_rotations.pt_01_34\n",
            "acc:  tensor(0.9021)\n",
            "bwt:  tensor(0.0499)\n",
            "fwt:  tensor(0.6483)\n"
          ],
          "name": "stdout"
        }
      ]
    },
    {
      "cell_type": "markdown",
      "metadata": {
        "id": "ZcyRWA1Y6p9K",
        "colab_type": "text"
      },
      "source": [
        "Paper referenced:\n",
        "\n",
        "\n",
        "[Gradient Episodic Memory for Continual Learning](https://arxiv.org/pdf/1706.08840.pdf)\n",
        "\n",
        "\n",
        "\n"
      ]
    }
  ]
}